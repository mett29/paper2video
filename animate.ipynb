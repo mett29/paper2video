{
 "cells": [
  {
   "cell_type": "markdown",
   "metadata": {},
   "source": [
    "### Add an animated speaking character to your video"
   ]
  },
  {
   "cell_type": "markdown",
   "metadata": {},
   "source": [
    "**THIS NOTEBOOK IS SUPPOSED TO BE RUN ON COLAB**"
   ]
  },
  {
   "cell_type": "markdown",
   "metadata": {},
   "source": [
    "This notebook uses the PyToon library to add an animated character with mouth movements to the generated video.\n",
    "\n",
    "PyToon: https://github.com/lukerbs/pytoon/tree/main\n",
    "\n",
    "The above library uses character images created by https://github.com/carykh/lazykh"
   ]
  },
  {
   "cell_type": "markdown",
   "metadata": {},
   "source": [
    "### Why the notebook?"
   ]
  },
  {
   "cell_type": "markdown",
   "metadata": {},
   "source": [
    "PyToon uses ForceAlign (https://github.com/lukerbs/forcealign), a library for forced alignment of English text to English Audio.\n",
    "ForceAlign uses Pytorch's WAV2VEC2 pretrained model for acoustic feature extraction.\n",
    "\n",
    "My setup does not have enough RAM to run the above model (I'm on WSL2 on an old PC), hence I decided to split the code and run this part on Colab (the free version, I used a T4 GPU).\n",
    "You can do the same or you can modify the convert_to_video() function in order to directly generate the final result."
   ]
  },
  {
   "cell_type": "code",
   "execution_count": null,
   "metadata": {
    "vscode": {
     "languageId": "shellscript"
    }
   },
   "outputs": [],
   "source": [
    "# Colab comes with ffmpeg already installed, but you can check by running the following command\n",
    "!apt-get install ffmpeg"
   ]
  },
  {
   "cell_type": "code",
   "execution_count": null,
   "metadata": {
    "vscode": {
     "languageId": "shellscript"
    }
   },
   "outputs": [],
   "source": [
    "!pip install pytoon --quiet"
   ]
  },
  {
   "cell_type": "markdown",
   "metadata": {},
   "source": [
    "**Important:** before running the cell below, you need to upload the following files:\n",
    "- slides_content.json\n",
    "- all the audio clips in MP3 format (create a folder on Colab and put them there)\n",
    "- all the video clips in MP4 format (create a folder on Colab and put them there)\n",
    "\n",
    "All these files are generated when you run the generate.py script. You'll find them in the folder you specified as output folder ('output' by default).\n",
    "\n",
    "If you have enough resources you can avoid the for loop and pass a single MP3 file and a single MP4 file as background video.\n",
    "\n",
    "**Note:** the FPS parameter has an impact on the resource you'll use. With FPS=24 Colab uses ~9GB of RAM and should not crash."
   ]
  },
  {
   "cell_type": "code",
   "execution_count": null,
   "metadata": {
    "vscode": {
     "languageId": "shellscript"
    }
   },
   "outputs": [],
   "source": [
    "import os\n",
    "import json\n",
    "import tempfile\n",
    "\n",
    "from pytoon.animator import animate\n",
    "from moviepy.editor import VideoFileClip, concatenate_videoclips\n",
    "\n",
    "with open('./slides_content.json', 'r') as f_in:\n",
    "    slides_content = json.load(f_in)\n",
    "\n",
    "with tempfile.TemporaryDirectory() as temp_path:\n",
    "    frames_path = []\n",
    "    for i, slide in enumerate(slides_content):\n",
    "        print(f\"Processing slide {i} ...\")\n",
    "        # Create a Pytoon animation\n",
    "        animation = animate(\n",
    "            audio_file=f\"./audio_clips/frame_{i}.mp3\",\n",
    "            transcript=slide.get('slide_narration', ''),\n",
    "            fps=24\n",
    "        )\n",
    "        # Overlay the animation on top of another video and save as an .mp4 file\n",
    "        background_video = VideoFileClip(f\"./video_clips/frame_{i}.mp4\")\n",
    "        frame_path = os.path.join(temp_path, f\"final_video_frame_{i}.mp4\")\n",
    "        animation.export(\n",
    "            path=frame_path,\n",
    "            background=background_video,\n",
    "            scale=0.5\n",
    "        )\n",
    "        frames_path.append(frame_path)\n",
    "    # Concatenate frames\n",
    "    clips = []\n",
    "    for path in frames_path:\n",
    "        clips.append(VideoFileClip(filename=path))\n",
    "    final_clip = concatenate_videoclips(clips)\n",
    "    final_clip.write_videofile(\n",
    "        filename=os.path.join('final_video_with_animated_character.mp4'), fps=24\n",
    "    )"
   ]
  }
 ],
 "metadata": {
  "language_info": {
   "name": "python"
  }
 },
 "nbformat": 4,
 "nbformat_minor": 2
}
